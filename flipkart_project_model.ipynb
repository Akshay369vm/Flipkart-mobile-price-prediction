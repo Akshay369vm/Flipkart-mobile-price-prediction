{
 "cells": [
  {
   "cell_type": "code",
   "execution_count": 686,
   "id": "e56b761e",
   "metadata": {},
   "outputs": [],
   "source": [
    "import numpy as np\n",
    "import pandas as pd\n",
    "import matplotlib.pyplot as plt\n",
    "import seaborn as sn\n",
    "import re"
   ]
  },
  {
   "cell_type": "code",
   "execution_count": 687,
   "id": "08fcff2b",
   "metadata": {},
   "outputs": [
    {
     "data": {
      "text/html": [
       "<div>\n",
       "<style scoped>\n",
       "    .dataframe tbody tr th:only-of-type {\n",
       "        vertical-align: middle;\n",
       "    }\n",
       "\n",
       "    .dataframe tbody tr th {\n",
       "        vertical-align: top;\n",
       "    }\n",
       "\n",
       "    .dataframe thead th {\n",
       "        text-align: right;\n",
       "    }\n",
       "</style>\n",
       "<table border=\"1\" class=\"dataframe\">\n",
       "  <thead>\n",
       "    <tr style=\"text-align: right;\">\n",
       "      <th></th>\n",
       "      <th>Name</th>\n",
       "      <th>RAM</th>\n",
       "      <th>ROM</th>\n",
       "      <th>Extended_memory</th>\n",
       "      <th>Battery</th>\n",
       "      <th>Processor</th>\n",
       "      <th>Price</th>\n",
       "    </tr>\n",
       "  </thead>\n",
       "  <tbody>\n",
       "    <tr>\n",
       "      <th>0</th>\n",
       "      <td>POCO M3 (Power Black, 64 GB)</td>\n",
       "      <td>6 GB RAM</td>\n",
       "      <td>64 GB ROM</td>\n",
       "      <td>Expandable Upto 512 GB</td>\n",
       "      <td>6000 mAh</td>\n",
       "      <td>Qualcomm Snapdragon 662 Processor</td>\n",
       "      <td>10,999</td>\n",
       "    </tr>\n",
       "    <tr>\n",
       "      <th>1</th>\n",
       "      <td>REDMI 9 Power (Electric Green, 64 GB)</td>\n",
       "      <td>4 GB RAM</td>\n",
       "      <td>64 GB ROM</td>\n",
       "      <td>NaN</td>\n",
       "      <td>6000 mAh</td>\n",
       "      <td>Qualcomm Snapdragon 662 Processor</td>\n",
       "      <td>10,499</td>\n",
       "    </tr>\n",
       "    <tr>\n",
       "      <th>2</th>\n",
       "      <td>POCO M3 (Cool Blue, 64 GB)</td>\n",
       "      <td>6 GB RAM</td>\n",
       "      <td>64 GB ROM</td>\n",
       "      <td>Expandable Upto 512 GB</td>\n",
       "      <td>6000 mAh</td>\n",
       "      <td>Qualcomm Snapdragon 662 Processor</td>\n",
       "      <td>10,999</td>\n",
       "    </tr>\n",
       "    <tr>\n",
       "      <th>3</th>\n",
       "      <td>LG W41 Pro (Laser Blue, 128 GB)</td>\n",
       "      <td>6 GB RAM</td>\n",
       "      <td>128 GB ROM</td>\n",
       "      <td>Expandable Upto 256 GB</td>\n",
       "      <td>5000 mAh</td>\n",
       "      <td>MediaTek Helio G35 Processor</td>\n",
       "      <td>13,990</td>\n",
       "    </tr>\n",
       "    <tr>\n",
       "      <th>4</th>\n",
       "      <td>SAMSUNG Galaxy F41 (Fusion Blue, 128 GB)</td>\n",
       "      <td>6 GB RAM</td>\n",
       "      <td>128 GB ROM</td>\n",
       "      <td>Expandable Upto 512 GB</td>\n",
       "      <td>6000 mAh</td>\n",
       "      <td>Exynos 9611 Processor</td>\n",
       "      <td>14,499</td>\n",
       "    </tr>\n",
       "  </tbody>\n",
       "</table>\n",
       "</div>"
      ],
      "text/plain": [
       "                                       Name       RAM         ROM  \\\n",
       "0              POCO M3 (Power Black, 64 GB)  6 GB RAM   64 GB ROM   \n",
       "1     REDMI 9 Power (Electric Green, 64 GB)  4 GB RAM   64 GB ROM   \n",
       "2                POCO M3 (Cool Blue, 64 GB)  6 GB RAM   64 GB ROM   \n",
       "3           LG W41 Pro (Laser Blue, 128 GB)  6 GB RAM  128 GB ROM   \n",
       "4  SAMSUNG Galaxy F41 (Fusion Blue, 128 GB)  6 GB RAM  128 GB ROM   \n",
       "\n",
       "          Extended_memory   Battery                          Processor   Price  \n",
       "0  Expandable Upto 512 GB  6000 mAh  Qualcomm Snapdragon 662 Processor  10,999  \n",
       "1                     NaN  6000 mAh  Qualcomm Snapdragon 662 Processor  10,499  \n",
       "2  Expandable Upto 512 GB  6000 mAh  Qualcomm Snapdragon 662 Processor  10,999  \n",
       "3  Expandable Upto 256 GB  5000 mAh       MediaTek Helio G35 Processor  13,990  \n",
       "4  Expandable Upto 512 GB  6000 mAh              Exynos 9611 Processor  14,499  "
      ]
     },
     "execution_count": 687,
     "metadata": {},
     "output_type": "execute_result"
    }
   ],
   "source": [
    "df=pd.read_csv('flipkart.csv')\n",
    "df.head()"
   ]
  },
  {
   "cell_type": "code",
   "execution_count": 688,
   "id": "5fe04823",
   "metadata": {},
   "outputs": [
    {
     "name": "stdout",
     "output_type": "stream",
     "text": [
      "<class 'pandas.core.frame.DataFrame'>\n",
      "RangeIndex: 984 entries, 0 to 983\n",
      "Data columns (total 7 columns):\n",
      " #   Column           Non-Null Count  Dtype \n",
      "---  ------           --------------  ----- \n",
      " 0   Name             984 non-null    object\n",
      " 1   RAM              920 non-null    object\n",
      " 2   ROM              982 non-null    object\n",
      " 3   Extended_memory  663 non-null    object\n",
      " 4   Battery          915 non-null    object\n",
      " 5   Processor        870 non-null    object\n",
      " 6   Price            984 non-null    object\n",
      "dtypes: object(7)\n",
      "memory usage: 27.0+ KB\n"
     ]
    }
   ],
   "source": [
    "df.info()\n"
   ]
  },
  {
   "cell_type": "code",
   "execution_count": 689,
   "id": "87d11cba",
   "metadata": {},
   "outputs": [
    {
     "data": {
      "text/plain": [
       "Name                 0\n",
       "RAM                 64\n",
       "ROM                  2\n",
       "Extended_memory    321\n",
       "Battery             69\n",
       "Processor          114\n",
       "Price                0\n",
       "dtype: int64"
      ]
     },
     "execution_count": 689,
     "metadata": {},
     "output_type": "execute_result"
    }
   ],
   "source": [
    "df.isnull().sum()"
   ]
  },
  {
   "cell_type": "code",
   "execution_count": 690,
   "id": "d65b9f7a",
   "metadata": {},
   "outputs": [
    {
     "name": "stdout",
     "output_type": "stream",
     "text": [
      "['6 GB RAM' '4 GB RAM' '8 GB RAM' '3 GB RAM' nan '12 GB RAM' '2 GB RAM'\n",
      " '1 GB RAM']\n",
      "['64 GB ROM' '128 GB ROM' '32 GB ROM' '256 GB ROM' '512 GB ROM'\n",
      " '16 GB ROM' '8 GB ROM' '4 GB ROM' nan]\n",
      "['Expandable Upto 512 GB' nan 'Expandable Upto 256 GB'\n",
      " 'Expandable Upto 1 TB' 'Expandable Upto 128 GB' 'Expandable Upto 2 TB'\n",
      " 'Expandable Upto 32 GB' 'Expandable Upto 64 GB' 'Expandable Upto 400 GB']\n"
     ]
    }
   ],
   "source": [
    "print(df['RAM'].unique())\n",
    "print(df['ROM'].unique())\n",
    "print(df['Extended_memory'].unique())"
   ]
  },
  {
   "cell_type": "markdown",
   "id": "9e127086",
   "metadata": {},
   "source": [
    "### Cleaning"
   ]
  },
  {
   "cell_type": "code",
   "execution_count": 691,
   "id": "28ee4e22",
   "metadata": {},
   "outputs": [],
   "source": [
    "# As extended memory is not mentioned, replacing it with value 0.\n",
    "\n",
    "df['Extended_memory']=df['Extended_memory'].fillna('Expandable Upto 0 GB')"
   ]
  },
  {
   "cell_type": "code",
   "execution_count": 692,
   "id": "e5c11051",
   "metadata": {},
   "outputs": [],
   "source": [
    "#Here we can see that the price column has comma, we have to remove this and convet it into integer.\n",
    "\n",
    "df['Price']=df['Price'].str.replace(',','').astype(int)"
   ]
  },
  {
   "cell_type": "code",
   "execution_count": 693,
   "id": "79f51178",
   "metadata": {},
   "outputs": [],
   "source": [
    "#In columns like RAM,ROM and Battery some items are missing we have to drop these rows\n",
    "\n",
    "df=df.dropna(subset= ['Processor','RAM','ROM','Battery'])"
   ]
  },
  {
   "cell_type": "code",
   "execution_count": 694,
   "id": "3b43d552",
   "metadata": {},
   "outputs": [],
   "source": [
    "#Taking only the numerical value and converting it into integer \n",
    "\n",
    "df['Battery']=df['Battery'].str.split(' ').str.get(0).astype(int)"
   ]
  },
  {
   "cell_type": "code",
   "execution_count": 695,
   "id": "256b2dc6",
   "metadata": {},
   "outputs": [],
   "source": [
    "#Taking only the numerical value and converting it into integer \n",
    "\n",
    "df['RAM']=df['RAM'].str.split(' ').str.get(0).astype(int)"
   ]
  },
  {
   "cell_type": "code",
   "execution_count": 696,
   "id": "787530a2",
   "metadata": {},
   "outputs": [],
   "source": [
    "#Taking only the numerical value and converting it into integer \n",
    "\n",
    "df['ROM']=df['ROM'].str.split(' ').str.get(0).astype(int)"
   ]
  },
  {
   "cell_type": "code",
   "execution_count": 697,
   "id": "64fb3d98",
   "metadata": {},
   "outputs": [],
   "source": [
    "#Taking only the numerical value and converting it into integer \n",
    "\n",
    "df['Extended_memory']=df['Extended_memory'].str.split(' ').str.get(2).astype(int)"
   ]
  },
  {
   "cell_type": "code",
   "execution_count": 698,
   "id": "72e8e1d4",
   "metadata": {},
   "outputs": [
    {
     "data": {
      "text/plain": [
       "800"
      ]
     },
     "execution_count": 698,
     "metadata": {},
     "output_type": "execute_result"
    }
   ],
   "source": [
    "#In column Name removing the words in bracket because it may contains the same brand name but in bracket it mentions different colors of the mobile\n",
    "\n",
    "name=[]\n",
    "for i in df['Name']:\n",
    "    i=re.sub(r\"\\([^()]*\\)\", \"\", i)\n",
    "    i=i.strip()\n",
    "    name.append(i)\n",
    "df['Name']=name\n",
    "len(df['Name'])"
   ]
  },
  {
   "cell_type": "code",
   "execution_count": 699,
   "id": "27da181a",
   "metadata": {},
   "outputs": [
    {
     "data": {
      "text/plain": [
       "Index(['Name', 'RAM', 'ROM', 'Extended_memory', 'Battery', 'Processor',\n",
       "       'Price'],\n",
       "      dtype='object')"
      ]
     },
     "execution_count": 699,
     "metadata": {},
     "output_type": "execute_result"
    }
   ],
   "source": [
    "df.columns"
   ]
  },
  {
   "cell_type": "code",
   "execution_count": 701,
   "id": "d9109700",
   "metadata": {},
   "outputs": [
    {
     "data": {
      "text/plain": [
       "0                 POCO M3\n",
       "1           REDMI 9 Power\n",
       "2                 POCO M3\n",
       "3              LG W41 Pro\n",
       "4      SAMSUNG Galaxy F41\n",
       "              ...        \n",
       "979              ViVO Y11\n",
       "980         REDMI 9 Prime\n",
       "981    SAMSUNG Galaxy M02\n",
       "982      Redmi Note 9 Pro\n",
       "983                IQOO 3\n",
       "Name: Name, Length: 800, dtype: object"
      ]
     },
     "execution_count": 701,
     "metadata": {},
     "output_type": "execute_result"
    }
   ],
   "source": [
    "df.Name"
   ]
  },
  {
   "cell_type": "code",
   "execution_count": 702,
   "id": "15314d9f",
   "metadata": {},
   "outputs": [
    {
     "name": "stdout",
     "output_type": "stream",
     "text": [
      "<class 'pandas.core.frame.DataFrame'>\n",
      "Int64Index: 800 entries, 0 to 983\n",
      "Data columns (total 7 columns):\n",
      " #   Column           Non-Null Count  Dtype \n",
      "---  ------           --------------  ----- \n",
      " 0   Name             800 non-null    object\n",
      " 1   RAM              800 non-null    int32 \n",
      " 2   ROM              800 non-null    int32 \n",
      " 3   Extended_memory  800 non-null    int32 \n",
      " 4   Battery          800 non-null    int32 \n",
      " 5   Processor        800 non-null    object\n",
      " 6   Price            800 non-null    int32 \n",
      "dtypes: int32(5), object(2)\n",
      "memory usage: 28.1+ KB\n"
     ]
    }
   ],
   "source": [
    "df.info()"
   ]
  },
  {
   "cell_type": "code",
   "execution_count": 703,
   "id": "4ac4ad82",
   "metadata": {},
   "outputs": [
    {
     "data": {
      "text/plain": [
       "REDMI Note 9           15\n",
       "POCO M2 Pro            12\n",
       "REDMI 9 Power          11\n",
       "SAMSUNG Galaxy A21s    10\n",
       "OPPO A3s                8\n",
       "                       ..\n",
       "realme 6 Pro            1\n",
       "ViVO X50 Pro            1\n",
       "ASUS Zenfone Selfie     1\n",
       "ViVO Y50                1\n",
       "OPPO A57                1\n",
       "Name: Name, Length: 286, dtype: int64"
      ]
     },
     "execution_count": 703,
     "metadata": {},
     "output_type": "execute_result"
    }
   ],
   "source": [
    "name = df['Name'].value_counts(ascending=False)\n",
    "name"
   ]
  },
  {
   "cell_type": "code",
   "execution_count": 704,
   "id": "6cccea9b",
   "metadata": {},
   "outputs": [
    {
     "data": {
      "text/plain": [
       "90"
      ]
     },
     "execution_count": 704,
     "metadata": {},
     "output_type": "execute_result"
    }
   ],
   "source": [
    "#Here we can see that there are mobile with single data so we have to do dimensionality reduction\n",
    "\n",
    "name1 = name[name<2]\n",
    "len(name1)"
   ]
  },
  {
   "cell_type": "code",
   "execution_count": 705,
   "id": "a7efb5b8",
   "metadata": {},
   "outputs": [],
   "source": [
    "#Here we are renaming the names with others which had only single data.\n",
    "\n",
    "df.Name = df.Name.apply(lambda x: 'other' if x in name1 else x)"
   ]
  },
  {
   "cell_type": "code",
   "execution_count": 706,
   "id": "75b2ff94",
   "metadata": {},
   "outputs": [
    {
     "data": {
      "text/html": [
       "<div>\n",
       "<style scoped>\n",
       "    .dataframe tbody tr th:only-of-type {\n",
       "        vertical-align: middle;\n",
       "    }\n",
       "\n",
       "    .dataframe tbody tr th {\n",
       "        vertical-align: top;\n",
       "    }\n",
       "\n",
       "    .dataframe thead th {\n",
       "        text-align: right;\n",
       "    }\n",
       "</style>\n",
       "<table border=\"1\" class=\"dataframe\">\n",
       "  <thead>\n",
       "    <tr style=\"text-align: right;\">\n",
       "      <th></th>\n",
       "      <th>Name</th>\n",
       "      <th>RAM</th>\n",
       "      <th>ROM</th>\n",
       "      <th>Extended_memory</th>\n",
       "      <th>Battery</th>\n",
       "      <th>Processor</th>\n",
       "      <th>Price</th>\n",
       "    </tr>\n",
       "  </thead>\n",
       "  <tbody>\n",
       "    <tr>\n",
       "      <th>0</th>\n",
       "      <td>POCO M3</td>\n",
       "      <td>6</td>\n",
       "      <td>64</td>\n",
       "      <td>512</td>\n",
       "      <td>6000</td>\n",
       "      <td>Qualcomm Snapdragon 662 Processor</td>\n",
       "      <td>10999</td>\n",
       "    </tr>\n",
       "    <tr>\n",
       "      <th>1</th>\n",
       "      <td>REDMI 9 Power</td>\n",
       "      <td>4</td>\n",
       "      <td>64</td>\n",
       "      <td>0</td>\n",
       "      <td>6000</td>\n",
       "      <td>Qualcomm Snapdragon 662 Processor</td>\n",
       "      <td>10499</td>\n",
       "    </tr>\n",
       "    <tr>\n",
       "      <th>2</th>\n",
       "      <td>POCO M3</td>\n",
       "      <td>6</td>\n",
       "      <td>64</td>\n",
       "      <td>512</td>\n",
       "      <td>6000</td>\n",
       "      <td>Qualcomm Snapdragon 662 Processor</td>\n",
       "      <td>10999</td>\n",
       "    </tr>\n",
       "    <tr>\n",
       "      <th>3</th>\n",
       "      <td>other</td>\n",
       "      <td>6</td>\n",
       "      <td>128</td>\n",
       "      <td>256</td>\n",
       "      <td>5000</td>\n",
       "      <td>MediaTek Helio G35 Processor</td>\n",
       "      <td>13990</td>\n",
       "    </tr>\n",
       "    <tr>\n",
       "      <th>4</th>\n",
       "      <td>SAMSUNG Galaxy F41</td>\n",
       "      <td>6</td>\n",
       "      <td>128</td>\n",
       "      <td>512</td>\n",
       "      <td>6000</td>\n",
       "      <td>Exynos 9611 Processor</td>\n",
       "      <td>14499</td>\n",
       "    </tr>\n",
       "  </tbody>\n",
       "</table>\n",
       "</div>"
      ],
      "text/plain": [
       "                 Name  RAM  ROM  Extended_memory  Battery  \\\n",
       "0             POCO M3    6   64              512     6000   \n",
       "1       REDMI 9 Power    4   64                0     6000   \n",
       "2             POCO M3    6   64              512     6000   \n",
       "3               other    6  128              256     5000   \n",
       "4  SAMSUNG Galaxy F41    6  128              512     6000   \n",
       "\n",
       "                           Processor  Price  \n",
       "0  Qualcomm Snapdragon 662 Processor  10999  \n",
       "1  Qualcomm Snapdragon 662 Processor  10499  \n",
       "2  Qualcomm Snapdragon 662 Processor  10999  \n",
       "3       MediaTek Helio G35 Processor  13990  \n",
       "4              Exynos 9611 Processor  14499  "
      ]
     },
     "execution_count": 706,
     "metadata": {},
     "output_type": "execute_result"
    }
   ],
   "source": [
    "df.head()"
   ]
  },
  {
   "cell_type": "code",
   "execution_count": 707,
   "id": "7a0c64e0",
   "metadata": {},
   "outputs": [],
   "source": [
    "#We are droping the names that is others\n",
    "\n",
    "df.drop(df[df['Name'] == 'other'].index, inplace = True)"
   ]
  },
  {
   "cell_type": "code",
   "execution_count": 708,
   "id": "821f6d47",
   "metadata": {},
   "outputs": [
    {
     "name": "stdout",
     "output_type": "stream",
     "text": [
      "<class 'pandas.core.frame.DataFrame'>\n",
      "Int64Index: 710 entries, 0 to 983\n",
      "Data columns (total 7 columns):\n",
      " #   Column           Non-Null Count  Dtype \n",
      "---  ------           --------------  ----- \n",
      " 0   Name             710 non-null    object\n",
      " 1   RAM              710 non-null    int32 \n",
      " 2   ROM              710 non-null    int32 \n",
      " 3   Extended_memory  710 non-null    int32 \n",
      " 4   Battery          710 non-null    int32 \n",
      " 5   Processor        710 non-null    object\n",
      " 6   Price            710 non-null    int32 \n",
      "dtypes: int32(5), object(2)\n",
      "memory usage: 25.0+ KB\n"
     ]
    }
   ],
   "source": [
    "df.info()"
   ]
  },
  {
   "cell_type": "code",
   "execution_count": 712,
   "id": "00fcd4bd",
   "metadata": {},
   "outputs": [],
   "source": [
    "#Here the index value are not continuous because we drop some rows.\n",
    "\n",
    "df=df.reset_index(drop=True)"
   ]
  },
  {
   "cell_type": "code",
   "execution_count": 713,
   "id": "b98088b7",
   "metadata": {},
   "outputs": [
    {
     "data": {
      "text/html": [
       "<div>\n",
       "<style scoped>\n",
       "    .dataframe tbody tr th:only-of-type {\n",
       "        vertical-align: middle;\n",
       "    }\n",
       "\n",
       "    .dataframe tbody tr th {\n",
       "        vertical-align: top;\n",
       "    }\n",
       "\n",
       "    .dataframe thead th {\n",
       "        text-align: right;\n",
       "    }\n",
       "</style>\n",
       "<table border=\"1\" class=\"dataframe\">\n",
       "  <thead>\n",
       "    <tr style=\"text-align: right;\">\n",
       "      <th></th>\n",
       "      <th>Name</th>\n",
       "      <th>RAM</th>\n",
       "      <th>ROM</th>\n",
       "      <th>Extended_memory</th>\n",
       "      <th>Battery</th>\n",
       "      <th>Processor</th>\n",
       "      <th>Price</th>\n",
       "    </tr>\n",
       "  </thead>\n",
       "  <tbody>\n",
       "    <tr>\n",
       "      <th>0</th>\n",
       "      <td>POCO M3</td>\n",
       "      <td>6</td>\n",
       "      <td>64</td>\n",
       "      <td>512</td>\n",
       "      <td>6000</td>\n",
       "      <td>Qualcomm Snapdragon 662 Processor</td>\n",
       "      <td>10999</td>\n",
       "    </tr>\n",
       "    <tr>\n",
       "      <th>1</th>\n",
       "      <td>REDMI 9 Power</td>\n",
       "      <td>4</td>\n",
       "      <td>64</td>\n",
       "      <td>0</td>\n",
       "      <td>6000</td>\n",
       "      <td>Qualcomm Snapdragon 662 Processor</td>\n",
       "      <td>10499</td>\n",
       "    </tr>\n",
       "    <tr>\n",
       "      <th>2</th>\n",
       "      <td>POCO M3</td>\n",
       "      <td>6</td>\n",
       "      <td>64</td>\n",
       "      <td>512</td>\n",
       "      <td>6000</td>\n",
       "      <td>Qualcomm Snapdragon 662 Processor</td>\n",
       "      <td>10999</td>\n",
       "    </tr>\n",
       "    <tr>\n",
       "      <th>3</th>\n",
       "      <td>SAMSUNG Galaxy F41</td>\n",
       "      <td>6</td>\n",
       "      <td>128</td>\n",
       "      <td>512</td>\n",
       "      <td>6000</td>\n",
       "      <td>Exynos 9611 Processor</td>\n",
       "      <td>14499</td>\n",
       "    </tr>\n",
       "    <tr>\n",
       "      <th>4</th>\n",
       "      <td>POCO M3</td>\n",
       "      <td>6</td>\n",
       "      <td>128</td>\n",
       "      <td>512</td>\n",
       "      <td>6000</td>\n",
       "      <td>Qualcomm Snapdragon 662 Processor</td>\n",
       "      <td>11999</td>\n",
       "    </tr>\n",
       "    <tr>\n",
       "      <th>...</th>\n",
       "      <td>...</td>\n",
       "      <td>...</td>\n",
       "      <td>...</td>\n",
       "      <td>...</td>\n",
       "      <td>...</td>\n",
       "      <td>...</td>\n",
       "      <td>...</td>\n",
       "    </tr>\n",
       "    <tr>\n",
       "      <th>705</th>\n",
       "      <td>ViVO Y11</td>\n",
       "      <td>3</td>\n",
       "      <td>32</td>\n",
       "      <td>0</td>\n",
       "      <td>5000</td>\n",
       "      <td>SDM439 Processor</td>\n",
       "      <td>10929</td>\n",
       "    </tr>\n",
       "    <tr>\n",
       "      <th>706</th>\n",
       "      <td>REDMI 9 Prime</td>\n",
       "      <td>4</td>\n",
       "      <td>128</td>\n",
       "      <td>512</td>\n",
       "      <td>5020</td>\n",
       "      <td>MediaTek Helio G80 Processor</td>\n",
       "      <td>10999</td>\n",
       "    </tr>\n",
       "    <tr>\n",
       "      <th>707</th>\n",
       "      <td>SAMSUNG Galaxy M02</td>\n",
       "      <td>3</td>\n",
       "      <td>32</td>\n",
       "      <td>0</td>\n",
       "      <td>5000</td>\n",
       "      <td>MediaTek MT6739 Processor</td>\n",
       "      <td>11999</td>\n",
       "    </tr>\n",
       "    <tr>\n",
       "      <th>708</th>\n",
       "      <td>Redmi Note 9 Pro</td>\n",
       "      <td>4</td>\n",
       "      <td>128</td>\n",
       "      <td>512</td>\n",
       "      <td>5020</td>\n",
       "      <td>Qualcomm Snapdragon 720G Processor</td>\n",
       "      <td>13999</td>\n",
       "    </tr>\n",
       "    <tr>\n",
       "      <th>709</th>\n",
       "      <td>IQOO 3</td>\n",
       "      <td>8</td>\n",
       "      <td>256</td>\n",
       "      <td>0</td>\n",
       "      <td>4440</td>\n",
       "      <td>Qualcomm Snapdragon 865 Processor</td>\n",
       "      <td>27990</td>\n",
       "    </tr>\n",
       "  </tbody>\n",
       "</table>\n",
       "<p>710 rows × 7 columns</p>\n",
       "</div>"
      ],
      "text/plain": [
       "                   Name  RAM  ROM  Extended_memory  Battery  \\\n",
       "0               POCO M3    6   64              512     6000   \n",
       "1         REDMI 9 Power    4   64                0     6000   \n",
       "2               POCO M3    6   64              512     6000   \n",
       "3    SAMSUNG Galaxy F41    6  128              512     6000   \n",
       "4               POCO M3    6  128              512     6000   \n",
       "..                  ...  ...  ...              ...      ...   \n",
       "705            ViVO Y11    3   32                0     5000   \n",
       "706       REDMI 9 Prime    4  128              512     5020   \n",
       "707  SAMSUNG Galaxy M02    3   32                0     5000   \n",
       "708    Redmi Note 9 Pro    4  128              512     5020   \n",
       "709              IQOO 3    8  256                0     4440   \n",
       "\n",
       "                              Processor  Price  \n",
       "0     Qualcomm Snapdragon 662 Processor  10999  \n",
       "1     Qualcomm Snapdragon 662 Processor  10499  \n",
       "2     Qualcomm Snapdragon 662 Processor  10999  \n",
       "3                 Exynos 9611 Processor  14499  \n",
       "4     Qualcomm Snapdragon 662 Processor  11999  \n",
       "..                                  ...    ...  \n",
       "705                    SDM439 Processor  10929  \n",
       "706        MediaTek Helio G80 Processor  10999  \n",
       "707           MediaTek MT6739 Processor  11999  \n",
       "708  Qualcomm Snapdragon 720G Processor  13999  \n",
       "709   Qualcomm Snapdragon 865 Processor  27990  \n",
       "\n",
       "[710 rows x 7 columns]"
      ]
     },
     "execution_count": 713,
     "metadata": {},
     "output_type": "execute_result"
    }
   ],
   "source": [
    "df"
   ]
  },
  {
   "cell_type": "code",
   "execution_count": 714,
   "id": "ba5293ec",
   "metadata": {},
   "outputs": [],
   "source": [
    "#Here we are storing the cleaned data.\n",
    "\n",
    "df.to_csv('flipkart_mobile_detals.csv')"
   ]
  },
  {
   "cell_type": "markdown",
   "id": "62ecf667",
   "metadata": {},
   "source": [
    "### Model\n"
   ]
  },
  {
   "cell_type": "code",
   "execution_count": 715,
   "id": "ab09504d",
   "metadata": {},
   "outputs": [
    {
     "name": "stdout",
     "output_type": "stream",
     "text": [
      "[ 6  4  8  3 12  2]\n",
      "[ 64 128 256  32  16 512]\n",
      "[512   0   1 256 128   2 400]\n",
      "[6000 5000 5200 5160 5020 4500 7000 4310 4230 4015 4000 4820 4200 4035\n",
      " 4350 4100 4300 4800 3315 3765 4520 2730 4780 2400 3260 4440 4010 3000\n",
      " 3010 3700 3060 4030 3200 3400 3500 3300 3360 3750 3340 3180 2630 2600\n",
      " 2500]\n"
     ]
    }
   ],
   "source": [
    "print(df['RAM'].unique())\n",
    "print(df['ROM'].unique())\n",
    "print(df['Extended_memory'].unique())\n",
    "print(df['Battery'].unique())"
   ]
  },
  {
   "cell_type": "code",
   "execution_count": 716,
   "id": "73c809fd",
   "metadata": {},
   "outputs": [
    {
     "data": {
      "image/png": "[encoded data removed]",
      "text/plain": [
       "<Figure size 432x288 with 1 Axes>"
      ]
     },
     "metadata": {
      "needs_background": "light"
     },
     "output_type": "display_data"
    }
   ],
   "source": [
    "#Here we plot RAm to its count\n",
    "sn.countplot(x='RAM',data=df)\n",
    "plt.xlabel('RAM')\n",
    "plt.ylabel('Number of Phones')\n",
    "plt.show()"
   ]
  },
  {
   "cell_type": "code",
   "execution_count": 717,
   "id": "56cdc181",
   "metadata": {},
   "outputs": [
    {
     "data": {
      "text/plain": [
       "RAM\n",
       "2     11762.111111\n",
       "3     12097.561644\n",
       "4     14949.834043\n",
       "6     18334.704762\n",
       "8     30346.421053\n",
       "12    63689.923077\n",
       "Name: Price, dtype: float64"
      ]
     },
     "execution_count": 717,
     "metadata": {},
     "output_type": "execute_result"
    }
   ],
   "source": [
    "#Here we can see the price is increasing with RAM\n",
    "\n",
    "df.groupby('RAM')['Price'].mean()"
   ]
  },
  {
   "cell_type": "code",
   "execution_count": 718,
   "id": "9ccd69b0",
   "metadata": {},
   "outputs": [
    {
     "data": {
      "text/plain": [
       "<AxesSubplot:xlabel='RAM', ylabel='Price'>"
      ]
     },
     "execution_count": 718,
     "metadata": {},
     "output_type": "execute_result"
    },
    {
     "data": {
      "image/png": "[encoded data removed]",
      "text/plain": [
       "<Figure size 432x288 with 1 Axes>"
      ]
     },
     "metadata": {
      "needs_background": "light"
     },
     "output_type": "display_data"
    }
   ],
   "source": [
    "#Here we plot RAM and price, here we can see the average range of price for each RAM.\n",
    "sn.boxplot(x='RAM',y='Price',data=df)"
   ]
  },
  {
   "cell_type": "code",
   "execution_count": 719,
   "id": "ebd5425c",
   "metadata": {},
   "outputs": [
    {
     "data": {
      "text/plain": [
       "array(['Qualcomm Snapdragon 662 Processor', 'Exynos 9611 Processor',\n",
       "       'MediaTek Dimensity 700 MT6833 Processor',\n",
       "       'MediaTek Helio G70 Processor',\n",
       "       'Qualcomm Snapdragon 860 Processor',\n",
       "       'MediaTek Helio G85 Processor',\n",
       "       'Qualcomm Snapdragon 732G Processor', 'Exynos 850 Processor',\n",
       "       'MediaTek Dimensity 700 Processor', 'MediaTek Helio G95 Processor',\n",
       "       'MediaTek Dimensity 800U Processor',\n",
       "       'Qualcomm Snapdragon 720G Processor',\n",
       "       'Qualcomm Snapdragon 678 Processor',\n",
       "       'Samsung Exynos 9 Octa 9611 Processor',\n",
       "       'MediaTek Helio G80 Processor',\n",
       "       'Qualcomm Snapdragon 460 Processor',\n",
       "       'Qualcomm Snapdragon 750G octa core Processor',\n",
       "       'Snapdragon 662 Processor', 'Exynos 9825 Processor',\n",
       "       'MediaTek Helio P35 Processor',\n",
       "       'MediaTek Helio P35 Octa Core Processor',\n",
       "       'MediaTek Helio G25 Processor', 'MediaTek Helio G35 Processor',\n",
       "       'MediaTek Helio P95 Processor',\n",
       "       'MediaTek Dimensity 1200 Processor',\n",
       "       'MediaTek MT6768 Octa Core Processor',\n",
       "       'Qualcomm Snapdragon 439 Processor',\n",
       "       'MediaTek Helio P95 MT6779V Processor',\n",
       "       'Qualcomm Snapdragon SDM450F01 Octa Core Processor',\n",
       "       'MediaTek Helio P60 Octa Core 20 GHz Processor',\n",
       "       '\\xa0Exynos 9611Octa Core processor Processor',\n",
       "       'Qualcomm Snapdragon 750G Processor',\n",
       "       'Qualcomm Snapdragon 712 AIE Octa Core 23GHz Processor',\n",
       "       'MediaTek Helio G90T Processor',\n",
       "       'Mediatek Helio P35 MT6765 Processor',\n",
       "       'Qualcomm Snapdragon 450 SDM450F01 Processor',\n",
       "       'Qualcomm Snapdragon 855 Processor',\n",
       "       'Qualcomm\\xa0Snapdragon\\xa0888\\xa0SM8350 Processor',\n",
       "       'Qualcomm Snapdragon SDM712 Octa Core 23 GHz Processor',\n",
       "       'MediaTek Dimensity 1000 MT6889 Processor',\n",
       "       'Qualcomm Snapdragon 450 Processor',\n",
       "       'Qualcomm Snapdragon 665 Processor',\n",
       "       'Qualcomm Snapdragon 870 Processor',\n",
       "       'MediaTek Dimensity 1000 Plus Processor',\n",
       "       'MediaTek Helio P35 MT6765 Processor',\n",
       "       'Exynos 850 Octa Core Processor',\n",
       "       'Qualcomm Snapdragon 730 Processor', 'Snapdragon 460 Processor',\n",
       "       'Exynos 2100 Processor', 'Qualcomm Snapdragon 845 Processor',\n",
       "       'Qualcomm SM6150 Processor',\n",
       "       'MediaTek P60 Octa Core 20 GHz Processor',\n",
       "       'Qualcomm Snapdragon 765G Processor',\n",
       "       'Qualcomm Snapdragon 710 Octa Core 22 GHz AIE Processor',\n",
       "       'Exynos 9810 Processor', 'MediaTek Helio P70 Processor',\n",
       "       'Qualcomm Snapdragon 720G Octa Core Processor',\n",
       "       'Qualcomm Snapdragon 675AIE Processor', 'Snapdragon 435 Processor',\n",
       "       'Qualcomm Snapdragon 865 Processor',\n",
       "       'MediaTek Helio P22 Processor',\n",
       "       'MediaTek  MT6762 octa core Processor',\n",
       "       'MediaTek Helio G85 MT6769VCZ Processor', 'MT6735 Processor',\n",
       "       'Qualcomm Snapdragon 626 Processor', 'Snapdragon Processor',\n",
       "       'Qualcomm Snapdragon 865 SM8250 Processor',\n",
       "       'Exynos 9610 Processor', 'Exynos Octa Core Processor',\n",
       "       'Qualcomm Snapdragon 660 AIE Processor',\n",
       "       'MediaTek MT6755 Helio P10 Octa Core 20GHz Processor',\n",
       "       'ARM Hisilicon Kirin 950  ARM Cortex A72  ARM Cortex A53 Octa Core 23GHz Processor',\n",
       "       'Qualcomm Snapdragon Octa Core Processor',\n",
       "       'Qualcomm Snapdragon 888 Processor',\n",
       "       'Qualcomm Snapdragon 675AIE Octa Core 20GHz Processor',\n",
       "       'MediaTek Helio P60 Processor',\n",
       "       'MT6762 Octa Core Helio P22 Processor',\n",
       "       'Mediatek MT6763T Octa Core 25 GHz Processor',\n",
       "       'Kirin 659 Octa Core Processor',\n",
       "       'Mediatek MT6750 Octa Core 15GHz Processor',\n",
       "       'Qualcomm Snapdragon 636 Processor',\n",
       "       'Qualcomm Snapdragon 632 Processor', 'Exynos 9 9820 Processor',\n",
       "       'MTK Helio P22 Processor',\n",
       "       '20 GHz Qualcomm Snapdragon 660 AIE Processor',\n",
       "       'Qualcomm Snapdragon 675 Processor',\n",
       "       'Qualcomm Snapdragon 430 Processor',\n",
       "       'Mediatek MT6735 Quad Core 13GHz Processor',\n",
       "       'Mediatek Helio P60 Octacore 20 GHz Processor', 'SDM439 Processor',\n",
       "       'Qualcomm Snapdragon 835 Processor', 'Helio P22 MT6762 Processor',\n",
       "       'MTK Helio P35 MT6765 Processor', 'Qualcomm SDM450B01 Processor',\n",
       "       'Exynos 7884B Processor',\n",
       "       'Qualcomm Snapdragon 425 64bit Quad Core 14GHz Processor',\n",
       "       'Exynos 7870 Processor', 'Mediatek MT6750T Processor',\n",
       "       'Exynos 7570 Quad Core 14GHz Processor',\n",
       "       'Exynos Octa Core 16 GHz Processor',\n",
       "       'Qualcomm Snapdragon SDM450 Processor', 'Exynos 7904 Processor',\n",
       "       'Qualcomm Snapdragon 425 Processor',\n",
       "       'Mediatek Helio P22 Processor',\n",
       "       'Mediatek MT6750 Octa Core 15 GHz Processor',\n",
       "       'Qualcomm Snapdragon SD425 Processor',\n",
       "       'Mediatek MTK6753 Octa Core 13GHz Processor',\n",
       "       'Exynos 7870 Octa Core 16GHz Processor', 'MT6761 Processor',\n",
       "       'Kirin 659 Processor', 'Qualcomm Snapdragon 630 Processor',\n",
       "       'Helio P22 MTK6762R Processor', 'Exynos 7570 Processor',\n",
       "       'MT6763T Processor',\n",
       "       'Qualcomm Snapdragon 430 64bit Octa Core 14 GHz Processor',\n",
       "       'Exynos 7884 Processor', 'Exynos OctaCore 16GHz Processor',\n",
       "       'Qualcomm Snapdragon 410 Quad Core 12GHz Processor',\n",
       "       'Helio P35 MT6765 Processor',\n",
       "       'Mediatek MT6750T Octa Core 15GHz Processor',\n",
       "       'Mediatek Helio Processor', 'Spreadtrum QuadCore 15GHz Processor',\n",
       "       'Exynos OctaCore 16 GHz Processor', 'MediaTek MT6739 Processor'],\n",
       "      dtype=object)"
      ]
     },
     "execution_count": 719,
     "metadata": {},
     "output_type": "execute_result"
    }
   ],
   "source": [
    "(df.Processor.unique())"
   ]
  },
  {
   "cell_type": "code",
   "execution_count": 720,
   "id": "9004f7b4",
   "metadata": {},
   "outputs": [
    {
     "data": {
      "text/plain": [
       "Processor\n",
       "20 GHz Qualcomm Snapdragon 660 AIE Processor                                         24766.000000\n",
       "ARM Hisilicon Kirin 950  ARM Cortex A72  ARM Cortex A53 Octa Core 23GHz Processor    29999.333333\n",
       "Exynos 2100 Processor                                                                86249.000000\n",
       "Exynos 7570 Processor                                                                10946.500000\n",
       "Exynos 7570 Quad Core 14GHz Processor                                                14000.000000\n",
       "                                                                                         ...     \n",
       "Snapdragon 460 Processor                                                             11989.000000\n",
       "Snapdragon 662 Processor                                                             10999.000000\n",
       "Snapdragon Processor                                                                 12998.500000\n",
       "Spreadtrum QuadCore 15GHz Processor                                                  10480.000000\n",
       " Exynos 9611Octa Core processor Processor                                            15409.666667\n",
       "Name: Price, Length: 124, dtype: float64"
      ]
     },
     "execution_count": 720,
     "metadata": {},
     "output_type": "execute_result"
    }
   ],
   "source": [
    "df.groupby('Processor')['Price'].mean()"
   ]
  },
  {
   "cell_type": "code",
   "execution_count": 721,
   "id": "bd93b509",
   "metadata": {},
   "outputs": [
    {
     "data": {
      "text/html": [
       "<div>\n",
       "<style scoped>\n",
       "    .dataframe tbody tr th:only-of-type {\n",
       "        vertical-align: middle;\n",
       "    }\n",
       "\n",
       "    .dataframe tbody tr th {\n",
       "        vertical-align: top;\n",
       "    }\n",
       "\n",
       "    .dataframe thead th {\n",
       "        text-align: right;\n",
       "    }\n",
       "</style>\n",
       "<table border=\"1\" class=\"dataframe\">\n",
       "  <thead>\n",
       "    <tr style=\"text-align: right;\">\n",
       "      <th></th>\n",
       "      <th>Price</th>\n",
       "    </tr>\n",
       "    <tr>\n",
       "      <th>RAM</th>\n",
       "      <th></th>\n",
       "    </tr>\n",
       "  </thead>\n",
       "  <tbody>\n",
       "    <tr>\n",
       "      <th>2</th>\n",
       "      <td>11762.111111</td>\n",
       "    </tr>\n",
       "    <tr>\n",
       "      <th>3</th>\n",
       "      <td>12097.561644</td>\n",
       "    </tr>\n",
       "    <tr>\n",
       "      <th>4</th>\n",
       "      <td>14949.834043</td>\n",
       "    </tr>\n",
       "    <tr>\n",
       "      <th>6</th>\n",
       "      <td>18334.704762</td>\n",
       "    </tr>\n",
       "    <tr>\n",
       "      <th>8</th>\n",
       "      <td>30346.421053</td>\n",
       "    </tr>\n",
       "    <tr>\n",
       "      <th>12</th>\n",
       "      <td>63689.923077</td>\n",
       "    </tr>\n",
       "  </tbody>\n",
       "</table>\n",
       "</div>"
      ],
      "text/plain": [
       "            Price\n",
       "RAM              \n",
       "2    11762.111111\n",
       "3    12097.561644\n",
       "4    14949.834043\n",
       "6    18334.704762\n",
       "8    30346.421053\n",
       "12   63689.923077"
      ]
     },
     "execution_count": 721,
     "metadata": {},
     "output_type": "execute_result"
    }
   ],
   "source": [
    "\n",
    "pd.pivot_table(df,index='RAM',values='Price')"
   ]
  },
  {
   "cell_type": "code",
   "execution_count": 722,
   "id": "6c0f1f7f",
   "metadata": {},
   "outputs": [
    {
     "data": {
      "text/html": [
       "<div>\n",
       "<style scoped>\n",
       "    .dataframe tbody tr th:only-of-type {\n",
       "        vertical-align: middle;\n",
       "    }\n",
       "\n",
       "    .dataframe tbody tr th {\n",
       "        vertical-align: top;\n",
       "    }\n",
       "\n",
       "    .dataframe thead th {\n",
       "        text-align: right;\n",
       "    }\n",
       "</style>\n",
       "<table border=\"1\" class=\"dataframe\">\n",
       "  <thead>\n",
       "    <tr style=\"text-align: right;\">\n",
       "      <th></th>\n",
       "      <th>Price</th>\n",
       "    </tr>\n",
       "    <tr>\n",
       "      <th>Processor</th>\n",
       "      <th></th>\n",
       "    </tr>\n",
       "  </thead>\n",
       "  <tbody>\n",
       "    <tr>\n",
       "      <th>20 GHz Qualcomm Snapdragon 660 AIE Processor</th>\n",
       "      <td>24766.000000</td>\n",
       "    </tr>\n",
       "    <tr>\n",
       "      <th>ARM Hisilicon Kirin 950  ARM Cortex A72  ARM Cortex A53 Octa Core 23GHz Processor</th>\n",
       "      <td>29999.333333</td>\n",
       "    </tr>\n",
       "    <tr>\n",
       "      <th>Exynos 2100 Processor</th>\n",
       "      <td>86249.000000</td>\n",
       "    </tr>\n",
       "    <tr>\n",
       "      <th>Exynos 7570 Processor</th>\n",
       "      <td>10946.500000</td>\n",
       "    </tr>\n",
       "    <tr>\n",
       "      <th>Exynos 7570 Quad Core 14GHz Processor</th>\n",
       "      <td>14000.000000</td>\n",
       "    </tr>\n",
       "    <tr>\n",
       "      <th>...</th>\n",
       "      <td>...</td>\n",
       "    </tr>\n",
       "    <tr>\n",
       "      <th>Snapdragon 460 Processor</th>\n",
       "      <td>11989.000000</td>\n",
       "    </tr>\n",
       "    <tr>\n",
       "      <th>Snapdragon 662 Processor</th>\n",
       "      <td>10999.000000</td>\n",
       "    </tr>\n",
       "    <tr>\n",
       "      <th>Snapdragon Processor</th>\n",
       "      <td>12998.500000</td>\n",
       "    </tr>\n",
       "    <tr>\n",
       "      <th>Spreadtrum QuadCore 15GHz Processor</th>\n",
       "      <td>10480.000000</td>\n",
       "    </tr>\n",
       "    <tr>\n",
       "      <th>Exynos 9611Octa Core processor Processor</th>\n",
       "      <td>15409.666667</td>\n",
       "    </tr>\n",
       "  </tbody>\n",
       "</table>\n",
       "<p>124 rows × 1 columns</p>\n",
       "</div>"
      ],
      "text/plain": [
       "                                                           Price\n",
       "Processor                                                       \n",
       "20 GHz Qualcomm Snapdragon 660 AIE Processor        24766.000000\n",
       "ARM Hisilicon Kirin 950  ARM Cortex A72  ARM Co...  29999.333333\n",
       "Exynos 2100 Processor                               86249.000000\n",
       "Exynos 7570 Processor                               10946.500000\n",
       "Exynos 7570 Quad Core 14GHz Processor               14000.000000\n",
       "...                                                          ...\n",
       "Snapdragon 460 Processor                            11989.000000\n",
       "Snapdragon 662 Processor                            10999.000000\n",
       "Snapdragon Processor                                12998.500000\n",
       "Spreadtrum QuadCore 15GHz Processor                 10480.000000\n",
       " Exynos 9611Octa Core processor Processor           15409.666667\n",
       "\n",
       "[124 rows x 1 columns]"
      ]
     },
     "execution_count": 722,
     "metadata": {},
     "output_type": "execute_result"
    }
   ],
   "source": [
    "pd.pivot_table(df,index='Processor',values='Price')"
   ]
  },
  {
   "cell_type": "code",
   "execution_count": 723,
   "id": "a6604df0",
   "metadata": {},
   "outputs": [
    {
     "data": {
      "text/html": [
       "<div>\n",
       "<style scoped>\n",
       "    .dataframe tbody tr th:only-of-type {\n",
       "        vertical-align: middle;\n",
       "    }\n",
       "\n",
       "    .dataframe tbody tr th {\n",
       "        vertical-align: top;\n",
       "    }\n",
       "\n",
       "    .dataframe thead th {\n",
       "        text-align: right;\n",
       "    }\n",
       "</style>\n",
       "<table border=\"1\" class=\"dataframe\">\n",
       "  <thead>\n",
       "    <tr style=\"text-align: right;\">\n",
       "      <th></th>\n",
       "      <th></th>\n",
       "      <th>Price</th>\n",
       "    </tr>\n",
       "    <tr>\n",
       "      <th>RAM</th>\n",
       "      <th>Processor</th>\n",
       "      <th></th>\n",
       "    </tr>\n",
       "  </thead>\n",
       "  <tbody>\n",
       "    <tr>\n",
       "      <th rowspan=\"5\" valign=\"top\">12</th>\n",
       "      <th>Qualcomm Snapdragon 888 SM8350 Processor</th>\n",
       "      <td>57999.0</td>\n",
       "    </tr>\n",
       "    <tr>\n",
       "      <th>Qualcomm Snapdragon 870 Processor</th>\n",
       "      <td>49990.0</td>\n",
       "    </tr>\n",
       "    <tr>\n",
       "      <th>Qualcomm Snapdragon 865 SM8250 Processor</th>\n",
       "      <td>49999.0</td>\n",
       "    </tr>\n",
       "    <tr>\n",
       "      <th>Qualcomm Snapdragon 855 Processor</th>\n",
       "      <td>26999.0</td>\n",
       "    </tr>\n",
       "    <tr>\n",
       "      <th>MediaTek Dimensity 1200 Processor</th>\n",
       "      <td>29999.0</td>\n",
       "    </tr>\n",
       "    <tr>\n",
       "      <th>...</th>\n",
       "      <th>...</th>\n",
       "      <td>...</td>\n",
       "    </tr>\n",
       "    <tr>\n",
       "      <th rowspan=\"5\" valign=\"top\">2</th>\n",
       "      <th>Qualcomm Snapdragon 425 64bit Quad Core 14GHz Processor</th>\n",
       "      <td>11092.5</td>\n",
       "    </tr>\n",
       "    <tr>\n",
       "      <th>Qualcomm Snapdragon 430 Processor</th>\n",
       "      <td>11990.0</td>\n",
       "    </tr>\n",
       "    <tr>\n",
       "      <th>Qualcomm Snapdragon 450 Processor</th>\n",
       "      <td>11500.0</td>\n",
       "    </tr>\n",
       "    <tr>\n",
       "      <th>Spreadtrum QuadCore 15GHz Processor</th>\n",
       "      <td>10480.0</td>\n",
       "    </tr>\n",
       "    <tr>\n",
       "      <th>Exynos 7570 Processor</th>\n",
       "      <td>10903.0</td>\n",
       "    </tr>\n",
       "  </tbody>\n",
       "</table>\n",
       "<p>194 rows × 1 columns</p>\n",
       "</div>"
      ],
      "text/plain": [
       "                                                          Price\n",
       "RAM Processor                                                  \n",
       "12  Qualcomm Snapdragon 888 SM8350 Processor            57999.0\n",
       "    Qualcomm Snapdragon 870 Processor                   49990.0\n",
       "    Qualcomm Snapdragon 865 SM8250 Processor            49999.0\n",
       "    Qualcomm Snapdragon 855 Processor                   26999.0\n",
       "    MediaTek Dimensity 1200 Processor                   29999.0\n",
       "...                                                         ...\n",
       "2   Qualcomm Snapdragon 425 64bit Quad Core 14GHz P...  11092.5\n",
       "    Qualcomm Snapdragon 430 Processor                   11990.0\n",
       "    Qualcomm Snapdragon 450 Processor                   11500.0\n",
       "    Spreadtrum QuadCore 15GHz Processor                 10480.0\n",
       "    Exynos 7570 Processor                               10903.0\n",
       "\n",
       "[194 rows x 1 columns]"
      ]
     },
     "execution_count": 723,
     "metadata": {},
     "output_type": "execute_result"
    }
   ],
   "source": [
    "(pd.pivot_table(df, index = ['RAM','Processor'], values = 'Price').sort_values('RAM', ascending = False))"
   ]
  },
  {
   "cell_type": "code",
   "execution_count": 724,
   "id": "7da5cb09",
   "metadata": {},
   "outputs": [
    {
     "data": {
      "text/plain": [
       "REDMI Note 9           15\n",
       "POCO M2 Pro            12\n",
       "REDMI 9 Power          11\n",
       "SAMSUNG Galaxy A21s    10\n",
       "OPPO A3s                8\n",
       "                       ..\n",
       "ViVO X60                2\n",
       "IQOO 3                  2\n",
       "Tecno Camon i 2         2\n",
       "Nokia 6.1               2\n",
       "SAMSUNG Galaxy A70s     2\n",
       "Name: Name, Length: 196, dtype: int64"
      ]
     },
     "execution_count": 724,
     "metadata": {},
     "output_type": "execute_result"
    }
   ],
   "source": [
    "df['Name'].value_counts()"
   ]
  },
  {
   "cell_type": "code",
   "execution_count": 725,
   "id": "75b77e72",
   "metadata": {},
   "outputs": [
    {
     "data": {
      "text/html": [
       "<div>\n",
       "<style scoped>\n",
       "    .dataframe tbody tr th:only-of-type {\n",
       "        vertical-align: middle;\n",
       "    }\n",
       "\n",
       "    .dataframe tbody tr th {\n",
       "        vertical-align: top;\n",
       "    }\n",
       "\n",
       "    .dataframe thead th {\n",
       "        text-align: right;\n",
       "    }\n",
       "</style>\n",
       "<table border=\"1\" class=\"dataframe\">\n",
       "  <thead>\n",
       "    <tr style=\"text-align: right;\">\n",
       "      <th></th>\n",
       "      <th>Price</th>\n",
       "    </tr>\n",
       "    <tr>\n",
       "      <th>Name</th>\n",
       "      <th></th>\n",
       "    </tr>\n",
       "  </thead>\n",
       "  <tbody>\n",
       "    <tr>\n",
       "      <th>SAMSUNG Galaxy S21 Ultra</th>\n",
       "      <td>107332.333333</td>\n",
       "    </tr>\n",
       "    <tr>\n",
       "      <th>SAMSUNG Galaxy Note 20 Ultra 5G</th>\n",
       "      <td>91999.000000</td>\n",
       "    </tr>\n",
       "    <tr>\n",
       "      <th>SAMSUNG Galaxy S10</th>\n",
       "      <td>81500.000000</td>\n",
       "    </tr>\n",
       "    <tr>\n",
       "      <th>SAMSUNG Galaxy Note 20</th>\n",
       "      <td>77999.000000</td>\n",
       "    </tr>\n",
       "    <tr>\n",
       "      <th>SAMSUNG Galaxy S21 Plus</th>\n",
       "      <td>73599.000000</td>\n",
       "    </tr>\n",
       "    <tr>\n",
       "      <th>...</th>\n",
       "      <td>...</td>\n",
       "    </tr>\n",
       "    <tr>\n",
       "      <th>Nokia 2.4</th>\n",
       "      <td>10399.000000</td>\n",
       "    </tr>\n",
       "    <tr>\n",
       "      <th>Redmi Y3</th>\n",
       "      <td>10340.000000</td>\n",
       "    </tr>\n",
       "    <tr>\n",
       "      <th>SAMSUNG M02s</th>\n",
       "      <td>10294.500000</td>\n",
       "    </tr>\n",
       "    <tr>\n",
       "      <th>SAMSUNG Galaxy M11</th>\n",
       "      <td>10239.666667</td>\n",
       "    </tr>\n",
       "    <tr>\n",
       "      <th>ViVO Y91i</th>\n",
       "      <td>10092.666667</td>\n",
       "    </tr>\n",
       "  </tbody>\n",
       "</table>\n",
       "<p>196 rows × 1 columns</p>\n",
       "</div>"
      ],
      "text/plain": [
       "                                         Price\n",
       "Name                                          \n",
       "SAMSUNG Galaxy S21 Ultra         107332.333333\n",
       "SAMSUNG Galaxy Note 20 Ultra 5G   91999.000000\n",
       "SAMSUNG Galaxy S10                81500.000000\n",
       "SAMSUNG Galaxy Note 20            77999.000000\n",
       "SAMSUNG Galaxy S21 Plus           73599.000000\n",
       "...                                        ...\n",
       "Nokia 2.4                         10399.000000\n",
       "Redmi Y3                          10340.000000\n",
       "SAMSUNG M02s                      10294.500000\n",
       "SAMSUNG Galaxy M11                10239.666667\n",
       "ViVO Y91i                         10092.666667\n",
       "\n",
       "[196 rows x 1 columns]"
      ]
     },
     "execution_count": 725,
     "metadata": {},
     "output_type": "execute_result"
    }
   ],
   "source": [
    "pd.pivot_table(df, index = ['Name'], values = 'Price').sort_values('Price', ascending = False)"
   ]
  },
  {
   "cell_type": "code",
   "execution_count": 726,
   "id": "de053958",
   "metadata": {},
   "outputs": [
    {
     "data": {
      "text/html": [
       "<div>\n",
       "<style scoped>\n",
       "    .dataframe tbody tr th:only-of-type {\n",
       "        vertical-align: middle;\n",
       "    }\n",
       "\n",
       "    .dataframe tbody tr th {\n",
       "        vertical-align: top;\n",
       "    }\n",
       "\n",
       "    .dataframe thead th {\n",
       "        text-align: right;\n",
       "    }\n",
       "</style>\n",
       "<table border=\"1\" class=\"dataframe\">\n",
       "  <thead>\n",
       "    <tr style=\"text-align: right;\">\n",
       "      <th></th>\n",
       "      <th></th>\n",
       "      <th>Price</th>\n",
       "    </tr>\n",
       "    <tr>\n",
       "      <th>Name</th>\n",
       "      <th>Processor</th>\n",
       "      <th></th>\n",
       "    </tr>\n",
       "  </thead>\n",
       "  <tbody>\n",
       "    <tr>\n",
       "      <th>realme X7 Pro 5G</th>\n",
       "      <th>MediaTek Dimensity 1000 Plus Processor</th>\n",
       "      <td>26999.0</td>\n",
       "    </tr>\n",
       "    <tr>\n",
       "      <th>realme X7 Max</th>\n",
       "      <th>MediaTek Dimensity 1200 Processor</th>\n",
       "      <td>28199.0</td>\n",
       "    </tr>\n",
       "    <tr>\n",
       "      <th>realme X7 5G</th>\n",
       "      <th>MediaTek Dimensity 800U Processor</th>\n",
       "      <td>18999.0</td>\n",
       "    </tr>\n",
       "    <tr>\n",
       "      <th>realme X3 SuperZoom</th>\n",
       "      <th>Qualcomm Snapdragon 855 Processor</th>\n",
       "      <td>25499.0</td>\n",
       "    </tr>\n",
       "    <tr>\n",
       "      <th>realme X3</th>\n",
       "      <th>Qualcomm Snapdragon 855 Processor</th>\n",
       "      <td>25999.0</td>\n",
       "    </tr>\n",
       "    <tr>\n",
       "      <th>...</th>\n",
       "      <th>...</th>\n",
       "      <td>...</td>\n",
       "    </tr>\n",
       "    <tr>\n",
       "      <th rowspan=\"2\" valign=\"top\">GIONEE F103 Pro</th>\n",
       "      <th>Mediatek MT6735 Quad Core 13GHz Processor</th>\n",
       "      <td>10999.0</td>\n",
       "    </tr>\n",
       "    <tr>\n",
       "      <th>MT6735 Processor</th>\n",
       "      <td>10999.0</td>\n",
       "    </tr>\n",
       "    <tr>\n",
       "      <th>GIONEE A1</th>\n",
       "      <th>MediaTek MT6755 Helio P10 Octa Core 20GHz Processor</th>\n",
       "      <td>18499.5</td>\n",
       "    </tr>\n",
       "    <tr>\n",
       "      <th>ASUS ROG Phone 5</th>\n",
       "      <th>Qualcomm Snapdragon 888 SM8350 Processor</th>\n",
       "      <td>53999.0</td>\n",
       "    </tr>\n",
       "    <tr>\n",
       "      <th>ASUS ROG Phone 3</th>\n",
       "      <th>Qualcomm Snapdragon 865 SM8250 Processor</th>\n",
       "      <td>45999.0</td>\n",
       "    </tr>\n",
       "  </tbody>\n",
       "</table>\n",
       "<p>202 rows × 1 columns</p>\n",
       "</div>"
      ],
      "text/plain": [
       "                                                                          Price\n",
       "Name                Processor                                                  \n",
       "realme X7 Pro 5G    MediaTek Dimensity 1000 Plus Processor              26999.0\n",
       "realme X7 Max       MediaTek Dimensity 1200 Processor                   28199.0\n",
       "realme X7 5G        MediaTek Dimensity 800U Processor                   18999.0\n",
       "realme X3 SuperZoom Qualcomm Snapdragon 855 Processor                   25499.0\n",
       "realme X3           Qualcomm Snapdragon 855 Processor                   25999.0\n",
       "...                                                                         ...\n",
       "GIONEE F103 Pro     Mediatek MT6735 Quad Core 13GHz Processor           10999.0\n",
       "                    MT6735 Processor                                    10999.0\n",
       "GIONEE A1           MediaTek MT6755 Helio P10 Octa Core 20GHz Proce...  18499.5\n",
       "ASUS ROG Phone 5    Qualcomm Snapdragon 888 SM8350 Processor            53999.0\n",
       "ASUS ROG Phone 3    Qualcomm Snapdragon 865 SM8250 Processor            45999.0\n",
       "\n",
       "[202 rows x 1 columns]"
      ]
     },
     "execution_count": 726,
     "metadata": {},
     "output_type": "execute_result"
    }
   ],
   "source": [
    "pd.pivot_table(df, index = ['Name','Processor'], values = 'Price').sort_values('Name', ascending = False)"
   ]
  },
  {
   "cell_type": "code",
   "execution_count": 727,
   "id": "29da05cf",
   "metadata": {},
   "outputs": [
    {
     "data": {
      "text/plain": [
       "90"
      ]
     },
     "execution_count": 727,
     "metadata": {},
     "output_type": "execute_result"
    }
   ],
   "source": [
    "len(names[names==1])\n"
   ]
  },
  {
   "cell_type": "code",
   "execution_count": 728,
   "id": "77031b34",
   "metadata": {},
   "outputs": [
    {
     "data": {
      "text/plain": [
       "196"
      ]
     },
     "execution_count": 728,
     "metadata": {},
     "output_type": "execute_result"
    }
   ],
   "source": [
    "len(df['Name'].unique())"
   ]
  },
  {
   "cell_type": "code",
   "execution_count": 729,
   "id": "ba9bc0a1",
   "metadata": {},
   "outputs": [
    {
     "data": {
      "text/plain": [
       "(710, 7)"
      ]
     },
     "execution_count": 729,
     "metadata": {},
     "output_type": "execute_result"
    }
   ],
   "source": [
    "df.shape"
   ]
  },
  {
   "cell_type": "code",
   "execution_count": 730,
   "id": "ddbb5686",
   "metadata": {},
   "outputs": [],
   "source": [
    "#Here we taking the independent features to variable x.\n",
    "x=df.drop('Price',axis=1)\n"
   ]
  },
  {
   "cell_type": "code",
   "execution_count": 731,
   "id": "2f52b5c3",
   "metadata": {},
   "outputs": [],
   "source": [
    "#Price is the dependent feature and we take price into variable y.\n",
    "y=df['Price']\n"
   ]
  },
  {
   "cell_type": "code",
   "execution_count": 732,
   "id": "0bf91d83",
   "metadata": {},
   "outputs": [],
   "source": [
    "#spliting data into train and split\n",
    "from sklearn.model_selection import train_test_split\n",
    "xtrain,xtest,ytrain,ytest=train_test_split(x,y,test_size=.2,random_state=0)"
   ]
  },
  {
   "cell_type": "code",
   "execution_count": 733,
   "id": "f0fbc0f3",
   "metadata": {},
   "outputs": [],
   "source": [
    "#importing r2_score to check the score of the model\n",
    "from sklearn.metrics import r2_score\n",
    "\n",
    "#Importing the machine learning algorithm that we are going to use here\n",
    "from sklearn.ensemble import RandomForestClassifier\n",
    "\n",
    "#For encoding the categirical value\n",
    "from sklearn.preprocessing import OneHotEncoder\n",
    "\n",
    "#Importing column transformer \n",
    "from sklearn.compose import make_column_transformer\n",
    "\n",
    "#Importing pipeline to execute everything step by step\n",
    "from sklearn.pipeline import make_pipeline"
   ]
  },
  {
   "cell_type": "code",
   "execution_count": 734,
   "id": "21488a55",
   "metadata": {},
   "outputs": [
    {
     "data": {
      "text/plain": [
       "OneHotEncoder()"
      ]
     },
     "execution_count": 734,
     "metadata": {},
     "output_type": "execute_result"
    }
   ],
   "source": [
    "#Fitting categorical value\n",
    "ohe=OneHotEncoder()\n",
    "ohe.fit(x[['Name','Processor']])"
   ]
  },
  {
   "cell_type": "code",
   "execution_count": 735,
   "id": "967e2665",
   "metadata": {},
   "outputs": [],
   "source": [
    "#Using column transformer transforming mentioned columns and other column are passed \n",
    "column_trans = make_column_transformer((OneHotEncoder(categories=ohe.categories_),['Name','Processor']), remainder='passthrough')"
   ]
  },
  {
   "cell_type": "code",
   "execution_count": 736,
   "id": "755ee0ab",
   "metadata": {},
   "outputs": [
    {
     "data": {
      "text/plain": [
       "[array(['ASUS ROG Phone 3', 'ASUS ROG Phone 5', 'GIONEE A1',\n",
       "        'GIONEE F103 Pro', 'Honor 7A', 'Honor 7X', 'Honor 8', 'Honor 9N',\n",
       "        'IQOO 3', 'Infinix Hot 10', 'Infinix Hot 10S', 'Infinix Note 10',\n",
       "        'Infinix Note 10 Pro', 'Infinix Zero 8i', 'LG V30+',\n",
       "        'LG Velvet Dual Screen', 'LG Wing', 'MOTOROLA G10 Power',\n",
       "        'MOTOROLA G30', 'MOTOROLA G40 Fusion', 'MOTOROLA G60',\n",
       "        'MOTOROLA G9 Power', 'Maplin Pro 5G', 'Mi 10', 'Mi 10T',\n",
       "        'Mi 10T Pro', 'Mi 10i', 'Mi 11X', 'Mi 11X Pro 5G', 'Mi A2',\n",
       "        'Mi A3', 'Micromax Dual 4', 'Micromax IN 1', 'Micromax IN Note 1',\n",
       "        'Nokia 2.4', 'Nokia 3.4', 'Nokia 5', 'Nokia 5.1 Plus', 'Nokia 5.3',\n",
       "        'Nokia 5.4', 'Nokia 6.1', 'OPPO A12', 'OPPO A15', 'OPPO A31',\n",
       "        'OPPO A37f', 'OPPO A3s', 'OPPO A5', 'OPPO A52', 'OPPO A53',\n",
       "        'OPPO A53s 5G', 'OPPO A54', 'OPPO A5s', 'OPPO A7', 'OPPO A71',\n",
       "        'OPPO A83', 'OPPO F15', 'OPPO F17', 'OPPO F17 PRO', 'OPPO F17 Pro',\n",
       "        'OPPO F19', 'OPPO F19 Pro', 'OPPO F19 Pro+ 5G', 'OPPO F3',\n",
       "        'OPPO F5', 'OPPO F9', 'OPPO F9 Pro', 'OPPO Reno4 Pro',\n",
       "        'OPPO Reno5 Pro 5G', 'POCO F1', 'POCO M2', 'POCO M2 Pro',\n",
       "        'POCO M3', 'POCO M3 Pro 5G', 'POCO X3', 'POCO X3 Pro',\n",
       "        'Panasonic Eluga Ray 700', 'REDMI 9 Power', 'REDMI 9 Prime',\n",
       "        'REDMI 9i', 'REDMI Note 10', 'REDMI Note 10 Pro',\n",
       "        'REDMI Note 10 Pro Max', 'REDMI Note 10S', 'REDMI Note 8 Pro',\n",
       "        'REDMI Note 9', 'REDMI Note 9 Pro Max', 'Redmi 8', 'Redmi 9',\n",
       "        'Redmi K20', 'Redmi K20 Pro', 'Redmi Note 5 Pro', 'Redmi Note 7',\n",
       "        'Redmi Note 7 Pro', 'Redmi Note 8', 'Redmi Note 9 Pro', 'Redmi Y3',\n",
       "        'SAMSUNG Galaxy A12', 'SAMSUNG Galaxy A20', 'SAMSUNG Galaxy A20s',\n",
       "        'SAMSUNG Galaxy A21s', 'SAMSUNG Galaxy A30', 'SAMSUNG Galaxy A31',\n",
       "        'SAMSUNG Galaxy A50', 'SAMSUNG Galaxy A51', 'SAMSUNG Galaxy A70s',\n",
       "        'SAMSUNG Galaxy A72', 'SAMSUNG Galaxy F02s', 'SAMSUNG Galaxy F12',\n",
       "        'SAMSUNG Galaxy F41', 'SAMSUNG Galaxy F62',\n",
       "        'SAMSUNG Galaxy J2 Pro', 'SAMSUNG Galaxy J4',\n",
       "        'SAMSUNG Galaxy J5 Prime', 'SAMSUNG Galaxy J6',\n",
       "        'SAMSUNG Galaxy J6 Plus', 'SAMSUNG Galaxy J7 - 6',\n",
       "        'SAMSUNG Galaxy J7 Duo', 'SAMSUNG Galaxy J7 Nxt',\n",
       "        'SAMSUNG Galaxy J8', 'SAMSUNG Galaxy M01s', 'SAMSUNG Galaxy M02',\n",
       "        'SAMSUNG Galaxy M11', 'SAMSUNG Galaxy M21', 'SAMSUNG Galaxy M30s',\n",
       "        'SAMSUNG Galaxy M31', 'SAMSUNG Galaxy M42 5G',\n",
       "        'SAMSUNG Galaxy Note 20', 'SAMSUNG Galaxy Note 20 Ultra 5G',\n",
       "        'SAMSUNG Galaxy Note10 Lite', 'SAMSUNG Galaxy S10',\n",
       "        'SAMSUNG Galaxy S20 FE', 'SAMSUNG Galaxy S21 Plus',\n",
       "        'SAMSUNG Galaxy S21 Ultra', 'SAMSUNG Galaxy S9',\n",
       "        'SAMSUNG Galaxy S9 Plus', 'SAMSUNG M02s', 'Tecno Camon 15',\n",
       "        'Tecno Camon 15 Pro', 'Tecno Camon i 2', 'Tecno POVA',\n",
       "        'Tecno Spark Power', 'ViVO V11', 'ViVO V11 Pro', 'ViVO V15 Pro',\n",
       "        'ViVO V17', 'ViVO V20', 'ViVO V20 Pro', 'ViVO V20 SE',\n",
       "        'ViVO V21 5G', 'ViVO V9', 'ViVO V9 Youth', 'ViVO X50', 'ViVO X60',\n",
       "        'ViVO X60 Pro', 'ViVO Y11', 'ViVO Y12', 'ViVO Y15', 'ViVO Y17',\n",
       "        'ViVO Y20', 'ViVO Y20A', 'ViVO Y20G', 'ViVO Y20i', 'ViVO Y30',\n",
       "        'ViVO Y31', 'ViVO Y51A', 'ViVO Y53', 'ViVO Y55S', 'ViVO Y69',\n",
       "        'ViVO Y71', 'ViVO Y73', 'ViVO Y81', 'ViVO Y83 Pro', 'ViVO Y91',\n",
       "        'ViVO Y91i', 'ViVO Y93', 'ViVO Y95', 'ViVO Z1Pro', 'realme 3i',\n",
       "        'realme 5 Pro', 'realme 7', 'realme 7 Pro', 'realme 7i',\n",
       "        'realme 8', 'realme 8 5G', 'realme 8 Pro', 'realme C25',\n",
       "        'realme C25s', 'realme Narzo 20', 'realme Narzo 20 Pro',\n",
       "        'realme Narzo 30 Pro 5G', 'realme X', 'realme X3',\n",
       "        'realme X3 SuperZoom', 'realme X7 5G', 'realme X7 Max',\n",
       "        'realme X7 Pro 5G'], dtype=object),\n",
       " array(['20 GHz Qualcomm Snapdragon 660 AIE Processor',\n",
       "        'ARM Hisilicon Kirin 950  ARM Cortex A72  ARM Cortex A53 Octa Core 23GHz Processor',\n",
       "        'Exynos 2100 Processor', 'Exynos 7570 Processor',\n",
       "        'Exynos 7570 Quad Core 14GHz Processor',\n",
       "        'Exynos 7870 Octa Core 16GHz Processor', 'Exynos 7870 Processor',\n",
       "        'Exynos 7884 Processor', 'Exynos 7884B Processor',\n",
       "        'Exynos 7904 Processor', 'Exynos 850 Octa Core Processor',\n",
       "        'Exynos 850 Processor', 'Exynos 9 9820 Processor',\n",
       "        'Exynos 9610 Processor', 'Exynos 9611 Processor',\n",
       "        'Exynos 9810 Processor', 'Exynos 9825 Processor',\n",
       "        'Exynos Octa Core 16 GHz Processor', 'Exynos Octa Core Processor',\n",
       "        'Exynos OctaCore 16 GHz Processor',\n",
       "        'Exynos OctaCore 16GHz Processor', 'Helio P22 MT6762 Processor',\n",
       "        'Helio P22 MTK6762R Processor', 'Helio P35 MT6765 Processor',\n",
       "        'Kirin 659 Octa Core Processor', 'Kirin 659 Processor',\n",
       "        'MT6735 Processor', 'MT6761 Processor',\n",
       "        'MT6762 Octa Core Helio P22 Processor', 'MT6763T Processor',\n",
       "        'MTK Helio P22 Processor', 'MTK Helio P35 MT6765 Processor',\n",
       "        'MediaTek  MT6762 octa core Processor',\n",
       "        'MediaTek Dimensity 1000 MT6889 Processor',\n",
       "        'MediaTek Dimensity 1000 Plus Processor',\n",
       "        'MediaTek Dimensity 1200 Processor',\n",
       "        'MediaTek Dimensity 700 MT6833 Processor',\n",
       "        'MediaTek Dimensity 700 Processor',\n",
       "        'MediaTek Dimensity 800U Processor',\n",
       "        'MediaTek Helio G25 Processor', 'MediaTek Helio G35 Processor',\n",
       "        'MediaTek Helio G70 Processor', 'MediaTek Helio G80 Processor',\n",
       "        'MediaTek Helio G85 MT6769VCZ Processor',\n",
       "        'MediaTek Helio G85 Processor', 'MediaTek Helio G90T Processor',\n",
       "        'MediaTek Helio G95 Processor', 'MediaTek Helio P22 Processor',\n",
       "        'MediaTek Helio P35 MT6765 Processor',\n",
       "        'MediaTek Helio P35 Octa Core Processor',\n",
       "        'MediaTek Helio P35 Processor',\n",
       "        'MediaTek Helio P60 Octa Core 20 GHz Processor',\n",
       "        'MediaTek Helio P60 Processor', 'MediaTek Helio P70 Processor',\n",
       "        'MediaTek Helio P95 MT6779V Processor',\n",
       "        'MediaTek Helio P95 Processor', 'MediaTek MT6739 Processor',\n",
       "        'MediaTek MT6755 Helio P10 Octa Core 20GHz Processor',\n",
       "        'MediaTek MT6768 Octa Core Processor',\n",
       "        'MediaTek P60 Octa Core 20 GHz Processor',\n",
       "        'Mediatek Helio P22 Processor',\n",
       "        'Mediatek Helio P35 MT6765 Processor',\n",
       "        'Mediatek Helio P60 Octacore 20 GHz Processor',\n",
       "        'Mediatek Helio Processor',\n",
       "        'Mediatek MT6735 Quad Core 13GHz Processor',\n",
       "        'Mediatek MT6750 Octa Core 15 GHz Processor',\n",
       "        'Mediatek MT6750 Octa Core 15GHz Processor',\n",
       "        'Mediatek MT6750T Octa Core 15GHz Processor',\n",
       "        'Mediatek MT6750T Processor',\n",
       "        'Mediatek MT6763T Octa Core 25 GHz Processor',\n",
       "        'Mediatek MTK6753 Octa Core 13GHz Processor',\n",
       "        'Qualcomm SDM450B01 Processor', 'Qualcomm SM6150 Processor',\n",
       "        'Qualcomm Snapdragon 410 Quad Core 12GHz Processor',\n",
       "        'Qualcomm Snapdragon 425 64bit Quad Core 14GHz Processor',\n",
       "        'Qualcomm Snapdragon 425 Processor',\n",
       "        'Qualcomm Snapdragon 430 64bit Octa Core 14 GHz Processor',\n",
       "        'Qualcomm Snapdragon 430 Processor',\n",
       "        'Qualcomm Snapdragon 439 Processor',\n",
       "        'Qualcomm Snapdragon 450 Processor',\n",
       "        'Qualcomm Snapdragon 450 SDM450F01 Processor',\n",
       "        'Qualcomm Snapdragon 460 Processor',\n",
       "        'Qualcomm Snapdragon 626 Processor',\n",
       "        'Qualcomm Snapdragon 630 Processor',\n",
       "        'Qualcomm Snapdragon 632 Processor',\n",
       "        'Qualcomm Snapdragon 636 Processor',\n",
       "        'Qualcomm Snapdragon 660 AIE Processor',\n",
       "        'Qualcomm Snapdragon 662 Processor',\n",
       "        'Qualcomm Snapdragon 665 Processor',\n",
       "        'Qualcomm Snapdragon 675 Processor',\n",
       "        'Qualcomm Snapdragon 675AIE Octa Core 20GHz Processor',\n",
       "        'Qualcomm Snapdragon 675AIE Processor',\n",
       "        'Qualcomm Snapdragon 678 Processor',\n",
       "        'Qualcomm Snapdragon 710 Octa Core 22 GHz AIE Processor',\n",
       "        'Qualcomm Snapdragon 712 AIE Octa Core 23GHz Processor',\n",
       "        'Qualcomm Snapdragon 720G Octa Core Processor',\n",
       "        'Qualcomm Snapdragon 720G Processor',\n",
       "        'Qualcomm Snapdragon 730 Processor',\n",
       "        'Qualcomm Snapdragon 732G Processor',\n",
       "        'Qualcomm Snapdragon 750G Processor',\n",
       "        'Qualcomm Snapdragon 750G octa core Processor',\n",
       "        'Qualcomm Snapdragon 765G Processor',\n",
       "        'Qualcomm Snapdragon 835 Processor',\n",
       "        'Qualcomm Snapdragon 845 Processor',\n",
       "        'Qualcomm Snapdragon 855 Processor',\n",
       "        'Qualcomm Snapdragon 860 Processor',\n",
       "        'Qualcomm Snapdragon 865 Processor',\n",
       "        'Qualcomm Snapdragon 865 SM8250 Processor',\n",
       "        'Qualcomm Snapdragon 870 Processor',\n",
       "        'Qualcomm Snapdragon 888 Processor',\n",
       "        'Qualcomm Snapdragon Octa Core Processor',\n",
       "        'Qualcomm Snapdragon SD425 Processor',\n",
       "        'Qualcomm Snapdragon SDM450 Processor',\n",
       "        'Qualcomm Snapdragon SDM450F01 Octa Core Processor',\n",
       "        'Qualcomm Snapdragon SDM712 Octa Core 23 GHz Processor',\n",
       "        'Qualcomm\\xa0Snapdragon\\xa0888\\xa0SM8350 Processor',\n",
       "        'SDM439 Processor', 'Samsung Exynos 9 Octa 9611 Processor',\n",
       "        'Snapdragon 435 Processor', 'Snapdragon 460 Processor',\n",
       "        'Snapdragon 662 Processor', 'Snapdragon Processor',\n",
       "        'Spreadtrum QuadCore 15GHz Processor',\n",
       "        '\\xa0Exynos 9611Octa Core processor Processor'], dtype=object)]"
      ]
     },
     "execution_count": 736,
     "metadata": {},
     "output_type": "execute_result"
    }
   ],
   "source": [
    "ohe.categories_"
   ]
  },
  {
   "cell_type": "code",
   "execution_count": 737,
   "id": "743fdabb",
   "metadata": {},
   "outputs": [],
   "source": [
    "#creating model for the algorithm\n",
    "forest = RandomForestClassifier(n_estimators = 25, criterion = 'entropy', random_state = 0)\n",
    "\n"
   ]
  },
  {
   "cell_type": "code",
   "execution_count": 738,
   "id": "86791e55",
   "metadata": {},
   "outputs": [],
   "source": [
    "#Passing values to pipeline\n",
    "pipe=make_pipeline(column_trans,forest)"
   ]
  },
  {
   "cell_type": "code",
   "execution_count": 739,
   "id": "0d555e0e",
   "metadata": {},
   "outputs": [
    {
     "data": {
      "text/plain": [
       "Pipeline(steps=[('columntransformer',\n",
       "                 ColumnTransformer(remainder='passthrough',\n",
       "                                   transformers=[('onehotencoder',\n",
       "                                                  OneHotEncoder(categories=[array(['ASUS ROG Phone 3', 'ASUS ROG Phone 5', 'GIONEE A1',\n",
       "       'GIONEE F103 Pro', 'Honor 7A', 'Honor 7X', 'Honor 8', 'Honor 9N',\n",
       "       'IQOO 3', 'Infinix Hot 10', 'Infinix Hot 10S', 'Infinix Note 10',\n",
       "       'Infinix Note 10 Pro', 'Infinix Zero 8i', 'LG V30+',\n",
       "       'LG Velvet D...\n",
       "       'SDM439 Processor', 'Samsung Exynos 9 Octa 9611 Processor',\n",
       "       'Snapdragon 435 Processor', 'Snapdragon 460 Processor',\n",
       "       'Snapdragon 662 Processor', 'Snapdragon Processor',\n",
       "       'Spreadtrum QuadCore 15GHz Processor',\n",
       "       '\\xa0Exynos 9611Octa Core processor Processor'], dtype=object)]),\n",
       "                                                  ['Name', 'Processor'])])),\n",
       "                ('randomforestclassifier',\n",
       "                 RandomForestClassifier(criterion='entropy', n_estimators=25,\n",
       "                                        random_state=0))])"
      ]
     },
     "execution_count": 739,
     "metadata": {},
     "output_type": "execute_result"
    }
   ],
   "source": [
    "pipe.fit(xtrain,ytrain)"
   ]
  },
  {
   "cell_type": "code",
   "execution_count": 740,
   "id": "7306f0df",
   "metadata": {},
   "outputs": [],
   "source": [
    "y_pred=pipe.predict(xtest)"
   ]
  },
  {
   "cell_type": "code",
   "execution_count": 741,
   "id": "088f826a",
   "metadata": {},
   "outputs": [
    {
     "data": {
      "text/plain": [
       "0.9861306641740749"
      ]
     },
     "execution_count": 741,
     "metadata": {},
     "output_type": "execute_result"
    }
   ],
   "source": [
    "r2_score(ytest,y_pred)"
   ]
  },
  {
   "cell_type": "code",
   "execution_count": 743,
   "id": "19f1d417",
   "metadata": {
    "scrolled": false
   },
   "outputs": [
    {
     "data": {
      "text/plain": [
       "array([11999])"
      ]
     },
     "execution_count": 743,
     "metadata": {},
     "output_type": "execute_result"
    }
   ],
   "source": [
    "pipe.predict(pd.DataFrame(columns=xtest.columns,data=np.array(['POCO M3', 4, 64, 256, 5000, 'Qualcomm Snapdragon 662 Processor']).reshape(1,6)))"
   ]
  },
  {
   "cell_type": "code",
   "execution_count": 744,
   "id": "fb3224ae",
   "metadata": {},
   "outputs": [],
   "source": [
    "import pickle"
   ]
  },
  {
   "cell_type": "code",
   "execution_count": 745,
   "id": "c15cfde2",
   "metadata": {},
   "outputs": [],
   "source": [
    "pickle.dump(pipe,open('flipkart_price_prediction.pkl','wb'))"
   ]
  },
  {
   "cell_type": "code",
   "execution_count": null,
   "id": "9a0541a7",
   "metadata": {},
   "outputs": [],
   "source": []
  },
  {
   "cell_type": "code",
   "execution_count": 292,
   "id": "f5ac7d3f",
   "metadata": {},
   "outputs": [],
   "source": []
  },
  {
   "cell_type": "code",
   "execution_count": null,
   "id": "1a17b42f",
   "metadata": {},
   "outputs": [],
   "source": []
  },
  {
   "cell_type": "code",
   "execution_count": null,
   "id": "ed21f954",
   "metadata": {},
   "outputs": [],
   "source": []
  },
  {
   "cell_type": "code",
   "execution_count": null,
   "id": "9dccde5b",
   "metadata": {},
   "outputs": [],
   "source": []
  },
  {
   "cell_type": "code",
   "execution_count": null,
   "id": "c5a3e27a",
   "metadata": {},
   "outputs": [],
   "source": [
    "\n"
   ]
  },
  {
   "cell_type": "code",
   "execution_count": null,
   "id": "e68937ca",
   "metadata": {},
   "outputs": [],
   "source": []
  },
  {
   "cell_type": "code",
   "execution_count": null,
   "id": "9de5fa38",
   "metadata": {},
   "outputs": [],
   "source": []
  },
  {
   "cell_type": "code",
   "execution_count": null,
   "id": "24d6e0b2",
   "metadata": {},
   "outputs": [],
   "source": []
  },
  {
   "cell_type": "code",
   "execution_count": null,
   "id": "afed1a30",
   "metadata": {},
   "outputs": [],
   "source": []
  },
  {
   "cell_type": "code",
   "execution_count": null,
   "id": "a74f7949",
   "metadata": {},
   "outputs": [],
   "source": []
  },
  {
   "cell_type": "code",
   "execution_count": null,
   "id": "6e364e44",
   "metadata": {},
   "outputs": [],
   "source": []
  },
  {
   "cell_type": "code",
   "execution_count": null,
   "id": "67a2dfc3",
   "metadata": {},
   "outputs": [],
   "source": []
  },
  {
   "cell_type": "code",
   "execution_count": null,
   "id": "972ece0f",
   "metadata": {},
   "outputs": [],
   "source": []
  },
  {
   "cell_type": "code",
   "execution_count": null,
   "id": "1770e97d",
   "metadata": {},
   "outputs": [],
   "source": []
  },
  {
   "cell_type": "code",
   "execution_count": null,
   "id": "7b7c60a1",
   "metadata": {},
   "outputs": [],
   "source": []
  },
  {
   "cell_type": "code",
   "execution_count": null,
   "id": "7557ee2f",
   "metadata": {},
   "outputs": [],
   "source": []
  },
  {
   "cell_type": "code",
   "execution_count": null,
   "id": "8360a60b",
   "metadata": {},
   "outputs": [],
   "source": []
  },
  {
   "cell_type": "code",
   "execution_count": null,
   "id": "265dc57c",
   "metadata": {},
   "outputs": [],
   "source": []
  },
  {
   "cell_type": "code",
   "execution_count": null,
   "id": "bf9a74d9",
   "metadata": {},
   "outputs": [],
   "source": []
  },
  {
   "cell_type": "code",
   "execution_count": null,
   "id": "7f678430",
   "metadata": {},
   "outputs": [],
   "source": []
  },
  {
   "cell_type": "code",
   "execution_count": null,
   "id": "eb980d9d",
   "metadata": {},
   "outputs": [],
   "source": []
  },
  {
   "cell_type": "code",
   "execution_count": null,
   "id": "d6152f65",
   "metadata": {},
   "outputs": [],
   "source": []
  }
 ],
 "metadata": {
  "kernelspec": {
   "display_name": "Python 3",
   "language": "python",
   "name": "python3"
  },
  "language_info": {
   "codemirror_mode": {
    "name": "ipython",
    "version": 3
   },
   "file_extension": ".py",
   "mimetype": "text/x-python",
   "name": "python",
   "nbconvert_exporter": "python",
   "pygments_lexer": "ipython3",
   "version": "3.8.5"
  }
 },
 "nbformat": 4,
 "nbformat_minor": 5
}
